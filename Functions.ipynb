{
  "nbformat": 4,
  "nbformat_minor": 0,
  "metadata": {
    "colab": {
      "provenance": []
    },
    "kernelspec": {
      "name": "python3",
      "display_name": "Python 3"
    },
    "language_info": {
      "name": "python"
    }
  },
  "cells": [
    {
      "cell_type": "markdown",
      "source": [
        "**Theroy Question-**"
      ],
      "metadata": {
        "id": "ks5G7G-STNTz"
      }
    },
    {
      "cell_type": "code",
      "execution_count": null,
      "metadata": {
        "id": "mRrAulgYS8pC"
      },
      "outputs": [],
      "source": [
        "# Q1- What is the difference between a function and a method in Python?\n",
        "#     Both functions and methods are reusable blocks of code that perform some specific tasks in python but the difference is mainly about where they are defined and how they are used.\n",
        "#     Function- A function is a reusable block of code that perform some specific task or computation. It is defined using the def keyword outside of any class and it break down complex tasks into smaller, manageable parts.\n",
        "#               It can be called independently by its name. Functions are not bound to any object, they work independently.\n",
        "#      Ex-- def greet(name):\n",
        "#               return f\"Hello, {name}\n",
        "#           print(greet(\"Aditi\"))\n",
        "\n",
        "#      Methods- Method is also a function but they are associated with class object and operates on instances of that class. It takes self as the first parameter to refer to the instance.They are bound to the objects of the class they belong to.\n",
        "#               They are used when you need a function that works within the context of a class,\n",
        "#      Ex-- class Person:\n",
        "#               def greet (self, name):\n",
        "#                  return f\"Hello, {name}!\"\n",
        "#           person = Person(\"Aditi\")\n",
        "#           print(person.greet())\n",
        "#"
      ]
    },
    {
      "cell_type": "code",
      "source": [
        "# Q2- Explain the concept of function arguments and parameters in Python.\n",
        "#     In Python, parameters and arguments are related but distinct concepts when working with functions.\n",
        "#     Parameter- Parameter are the variables listed in a function definition that define what inputs the function expect. When define a function, specify parameters to indicate the kind of information the function expects to receive.\n",
        "#\n",
        "#     Arguments: The actual values passed to a function when it is called. These values replace the parameters and are used within the function’s body.\n",
        "#\n",
        "#                def greet(name):  # 'name' is a parameter\n",
        "#                    print(f\"Hello, {name}!\")\n",
        "#\n",
        "#                greet(\"Bob\")  # \"Bob\" is an argument\n",
        "#\n",
        "#     Types of Function Arguments in Python--\n",
        "#     (1) Positional Arguments- These are matched to parameters based on their position.\n",
        "#                               def add (a, b):\n",
        "#                                   return a+b\n",
        "#                               print(add(2, 3))\n",
        "\n",
        "#     (2) Keyword Arguments- Arguments passed using parameter names, making the order irrelevant.\n",
        "#                            def introduce (name, age):\n",
        "#                                print(f\"My name is {name} and I am {age} years old.\")\n",
        "#                            introduce(age=22, name=\"Amit\")\n",
        "\n",
        "#     (3) Default Arguments- Parameters can have default values if no argument is provided.\n",
        "#                            def greet(name=\"Guest\"):\n",
        "#                                print(f\"Hello, {name}!\")\n",
        "#                            greet(\"Alice\")   # Output: Hello, Alice!\n",
        "\n",
        "#     (4) Variable-Length Arguments (*args and **kwargs)\n",
        "#         -- *args (Non-keyworded arguments): Allows passing multiple positional arguments as a tuple.\n",
        "#            def sum_numbers(*args):\n",
        "#                return sum(args)\n",
        "#            print(sum_numbers(1, 2, 3, 4))\n",
        "\n",
        "#         -- **kwargs (Keyworded arguments): Allows passing multiple keyword arguments as a dictionary.\n",
        "#            def person_info(**kwargs):\n",
        "#                for key, value in kwargs.items():\n",
        "#                    print(f\"{key}: {value}\")\n",
        "#            person_info(name=\"Alice\", age=25, city=\"New York\")"
      ],
      "metadata": {
        "id": "MUXwZ_BtZ0Hl"
      },
      "execution_count": null,
      "outputs": []
    },
    {
      "cell_type": "code",
      "source": [
        "# Q3- What are the different ways to define and call a function in Python?\n",
        "#     In Python, functions can be defined and called in multiple ways depending on the use case.\n",
        "#     (1) Simple Function- Functions are typically defined using the def keyword, followed by a name, parameters, and a body.\n",
        "#         def greet(name):\n",
        "#            return f\"Hello, {name}\"\n",
        "#         print(greet(\"Ajay\"))  # output: Hello, Ajay\n",
        "\n",
        "#      (2)) Function with Default Arguments- Set default values for parameters. If no argument is passed, the function uses the default values.\n",
        "#           def greet(name=\"Guest\"):\n",
        "#               return f\"Hello, {name}\"\n",
        "#           print(greet())         # Output: Hello, Guest\n",
        "#           print(greet(\"Bob\"))    # Output: Hello, Bob\n",
        "\n",
        "#      (3) Function with Variable-Length Arguments- *args allows you to pass a variable number of positional arguments to a function.\n",
        "#           *args (Multiple Positional Arguments)\n",
        "#            def add_numbers(*args):\n",
        "#                return sum(args)\n",
        "#            print(add_numbers(1, 2, 3, 4))\n",
        "#           **kwargs (Multiple Keyword Arguments)\n",
        "#           def person_info(**kwargs):\n",
        "#              return kwargs\n",
        "#           print(person_info(name=\"Aditi\", age=25))\n",
        "#\n",
        "#      (4) Calling a Function with Different Argument Types--\n",
        "#          Positional Arguments- def multiply(a, b):\n",
        "#                                    return a * b\n",
        "#                                print(multiply(2, 3))\n",
        "#          Keyword Arguments- print(multiply(b=4, a=5))\n",
        "#          Mixing Positional and Keyword Arguments- def introduce(name, age, city=\"Unknown\"):\n",
        "#                                                        return f\"My name is {name}, I am {age} years old, from {city}.\"\n",
        "#                                                   print(introduce(\"John\", age=30))\n",
        "\n",
        "#      (5)  Fuction as an Argument--\n",
        "#          def apply_func(func, value):\n",
        "#              return func(value)\n",
        "#          def square(x):\n",
        "#              return x ** 2\n",
        "#          print(apply_func(square, 4)) # Output: 16\n",
        "\n",
        "#      (6) Lambda (Anonymous) Functions-- Defined using the lambda keyword for short, single-expression functions.\n",
        "#          square = lambda x: x * x\n",
        "#          print(square(6)) #output: 36\n",
        "\n",
        "#      (7) Function Inside a Function (Nested Function)\n",
        "#          def outer():\n",
        "#             def inner():\n",
        "#                 return \"Inner function\"\n",
        "#             return inner()\n",
        "#          print(outer())  # Output: Inner function\n",
        "\n",
        "#       (8) Calling Functions Recursively\n",
        "#           def factorial(n):\n",
        "#               if n= 1:\n",
        "#                   return 1\n",
        "#               return n * factorial(n - 1)\n",
        "#          print(factorial(5)) # Output: 120\n"
      ],
      "metadata": {
        "id": "ox8TNjPQgwP7"
      },
      "execution_count": null,
      "outputs": []
    },
    {
      "cell_type": "code",
      "source": [
        "# Q4-  What is the purpose of the `return` statement in a Python function?\n",
        "#      The return statement in Python is used to send a value back from a function to the caller. It allows functions to produce output that can be stored in variables, used in expressions, or passed to other functions.\n",
        "#      By returning values, functions can be reused in different parts of a program, enabling modular and efficient code. If no return statement is used, the function returns None by default."
      ],
      "metadata": {
        "id": "PJsF6n7VzwMT"
      },
      "execution_count": null,
      "outputs": []
    },
    {
      "cell_type": "code",
      "source": [
        "# Q5- What are iterators in Python and how do they differ from iterables?\n",
        "#     In Python, iterators and iterables are key concepts when working with loops and sequences. but they have different role.\n",
        "#     Iterable- An iterable is any python object / sequential structure thet is returning its member one at a time permitting it to be iterated over  in a for loop.\n",
        "#               Examples of iterables include data structures like lists, tuples, dictionaries, sets, and strings.If an object can be looped over, it’s considered an iterable.\n",
        "#               numbers = [1, 2, 3, 4]\n",
        "#               for num in numbers:\n",
        "#               print(num)\n",
        "#    Iterators- An iterator is an object representing a stream of data and Implements both __iter__() and __next__() methods.Iterators are stateful,they remember where they are in the iteration process.\n",
        "#               numbers = iter([1, 2, 3])\n",
        "#               print(next(numbers))  # Output: 1\n",
        "                print(next(numbers))  # Output: 2\n",
        "                print(next(numbers))  # Output: 3\n",
        "                print(next(numbers))  # Raises StopIteration\n",
        ""
      ],
      "metadata": {
        "id": "7-sUPYNy1N1e"
      },
      "execution_count": null,
      "outputs": []
    },
    {
      "cell_type": "code",
      "source": [
        "# Q6- Explain the concept of generators in Python and how they are defined.\n",
        "#     In python, Generators are a special type of iterator that allows you to iterate over data lazily (one item at a time) instead of storing everything in memory at once.\n",
        "#     They are defined using a function with the yield keyword instead of return.\n",
        "\n",
        "#     Generator Functions-- It Uses yield instead of return to produce values lazily. it Can be paused and resumed, maintaining its state between calls and Implements __iter__() and __next__() automatically.\n",
        "#     def count_up_to(n):\n",
        "#         count = 1\n",
        "#         while count <= n:\n",
        "#             yield count # Pauses and yields the current count\n",
        "#             count += 1\n",
        "#     counter = count_up_to(3)\n",
        "#     print(next(counter)) # Output: 1\n",
        "#     print(next(counter)) # Output: 2\n",
        "#     print(next(counter)) # Output: 3\n",
        "\n",
        "#     Generators Expressions-- A generator expression is like a list comprehension but uses parentheses (()) instead of square brackets ([]). It’s useful for quick, on-the-fly generation of data.\n",
        "#     gen_exp = (x * x for x in range(5))\n",
        "#     print(next(gen_exp))  # Output: 0\n",
        "#     print(next(gen_exp))  # Output: 1\n",
        "#     print(next(gen_exp))  # Output: 4\n",
        ""
      ],
      "metadata": {
        "id": "WNmKJn4P5T7u"
      },
      "execution_count": null,
      "outputs": []
    },
    {
      "cell_type": "code",
      "source": [
        "# Q7- What are the advantages of using generators over regular functions?\n",
        "#     Generators have several benefits compared to regular functions, especially when dealing with large data sets or infinite sequences.\n",
        "#     Memory Efficiency -- Unlike regular functions that return all values at once (storing them in memory), generators produce values one at a time, saving memory.\n",
        "#     Faster Execution-- Generators start producing results immediately, while regular functions must compute all values before returning.\n",
        "#     Simplified Code-- Generators make it easy to write iterators without needing to manage the iterator’s state explicitly.\n"
      ],
      "metadata": {
        "id": "O8pFkYC49uAa"
      },
      "execution_count": null,
      "outputs": []
    },
    {
      "cell_type": "code",
      "source": [
        "# Q8- What is a lambda function in Python and when is it typically used?\n",
        "#     A lambda function in Python is a small anonymous function (a function without a name) that can have multiple arguments but only one expression. It takes any no. of arguments  should be used in one expresion commonly used for short and precise functions.\n",
        "#     Syntax-- lambda arguments: expression\n",
        "#     (no need to return andd ddef keyword)\n",
        "#     Example-- add = lambda x, y: x + y\n",
        "#     result = add(5, 5) # Output: 10\n",
        "\n",
        "#     Typical Use Cases for Lambda Functions--\n",
        "#     Using Lambda in map()-- numbers = [1, 2, 3, 4]\n",
        "#                             squared = list(map(lambda x: x * x, numbers))\n",
        "#                             print(squared) # Output: [1, 4, 9, 16]\n",
        "\n",
        "#     Using Lambda in filter()-- numbers = [1, 2, 3, 4, 5, 6]\n",
        "#                                evens = list(filter(lambda x: x % 2 == 0, numbers))\n",
        "#                                print(evens)  # Output: [2, 4, 6]\n",
        "\n",
        "#     Using Lambda in sorted()-- students = [(\"Alice\", 25), (\"Bob\", 22), (\"Charlie\", 23)]\n",
        "#                                sorted_students = sorted(students, key=lambda x: x[1])\n",
        "#                                print(sorted_students)  # Output: [('Bob', 22), ('Charlie', 23), ('Alice', 25)]"
      ],
      "metadata": {
        "id": "CH8XJT0l_GAc"
      },
      "execution_count": null,
      "outputs": []
    },
    {
      "cell_type": "code",
      "source": [
        "# Q9- Explain the purpose and usage of the `map()` function in Python.\n",
        "#     The map() function is used to apply a function to each element in an iterable (like a list or tuple) and return a new iterable (a map object).The main purpose of map() is to facilitate functional programming by enabling transformation or computation on iterable elements in a concise and efficient manner.\n",
        "#     Syntax-- map(function, iterable)\n",
        "#     Purpose of map-- Map() is primarily used to transform data in an iterable by applying a function to each element.It can provide performance benefits by avoiding the overhead of explicit loops and supporting lazy evaluation.\n",
        "#                       It improves readability and is often used with lambda functions."
      ],
      "metadata": {
        "id": "8QECGbdoJIdg"
      },
      "execution_count": null,
      "outputs": []
    },
    {
      "cell_type": "code",
      "source": [
        "# Q10- What is the difference between `map()`, `reduce()`, and `filter()` functions in Python?\n",
        "#      These three functions are higher-order functions that process iterables efficiently.\n",
        "#      (1) Purpose-- Map () applies a function to each element.\n",
        "#                    Filter() selects elements based on a condition.\n",
        "#                    Reduce()\telements to a single value.\n",
        "#      (2) Returns-- Map - A transformed iterable\n",
        "#                    Filter - A filtered iterable\n",
        "#                    Reduce- A single value\n",
        "#      (3) Requires-- Map - no\n",
        "#                     Filter - no\n",
        "#                     Reduce - yes"
      ],
      "metadata": {
        "id": "C0WF6WfPKyHA"
      },
      "execution_count": null,
      "outputs": []
    },
    {
      "cell_type": "code",
      "source": [
        "# Q11- Using pen & Paper write the internal mechanism for sum operation using  reduce function on this given list:[47,11,42,13];\n",
        "#      Import the reduce function from the functools module\n",
        "#      from functools import reduce\n",
        "#      result = reduce(lambda x, y: x + y, [47, 11, 42, 13])\n",
        "#      print(result)  # Output: 113\n",
        "\n",
        "#      Step-by-Step Execution of reduce()\n",
        "#      1. First iteration -- Takes the first two elements: 47 + 11 = 58\n",
        "#                            Intermediate result → 58\n",
        "#      2. Second iteration-- Takes the result from the first step and the next element: 58 + 42 = 100\n",
        "#                            Intermediate result → 100\n",
        "#      3. Third iteration-- Takes the result from the second step and the next element: 100 + 13 = 113\n",
        "#                           Final result → 113"
      ],
      "metadata": {
        "id": "8YPAWpI6MVW_"
      },
      "execution_count": null,
      "outputs": []
    },
    {
      "cell_type": "markdown",
      "source": [
        "**Practical Questions:**"
      ],
      "metadata": {
        "id": "0APkBzc2OL3d"
      }
    },
    {
      "cell_type": "markdown",
      "source": [
        "Q1- Write a Python function that takes a list of numbers as input and returns the sum of all even numbers in"
      ],
      "metadata": {
        "id": "pPH68Sx6PL2g"
      }
    },
    {
      "cell_type": "code",
      "source": [
        "def sum_of_evens(numbers):\n",
        "    return sum(num for num in numbers if num % 2 == 0)\n",
        "\n",
        "numbers = [1, 2, 3, 4, 5, 6, 7, 8]\n",
        "print(sum_of_evens(numbers))"
      ],
      "metadata": {
        "colab": {
          "base_uri": "https://localhost:8080/"
        },
        "id": "nrvXAxRcPRNt",
        "outputId": "8b22eab7-1488-4bb0-850b-7947423437ce"
      },
      "execution_count": 2,
      "outputs": [
        {
          "output_type": "stream",
          "name": "stdout",
          "text": [
            "20\n"
          ]
        }
      ]
    },
    {
      "cell_type": "markdown",
      "source": [
        "Q2-  Create a Python function that accepts a string and returns the reverse of that string."
      ],
      "metadata": {
        "id": "NyRO1ZsrQPzr"
      }
    },
    {
      "cell_type": "code",
      "source": [
        "def reverse_string(s):\n",
        "    return s[::-1]\n",
        "# Example Usage\n",
        "text = \"Hey, Alice!\"\n",
        "print(reverse_string(text))"
      ],
      "metadata": {
        "colab": {
          "base_uri": "https://localhost:8080/"
        },
        "id": "Dd1AYciOQTdo",
        "outputId": "e8be61ed-6b26-4423-b64f-79592de12e2a"
      },
      "execution_count": 3,
      "outputs": [
        {
          "output_type": "stream",
          "name": "stdout",
          "text": [
            "!ecilA ,yeH\n"
          ]
        }
      ]
    },
    {
      "cell_type": "markdown",
      "source": [
        "Q3-  Implement a Python function that takes a list of integers and returns a new list containing the squares of each number."
      ],
      "metadata": {
        "id": "YgLL2mnpQp15"
      }
    },
    {
      "cell_type": "code",
      "source": [
        "def square_numbers(numbers):\n",
        "    return [num ** 2 for num in numbers]\n",
        "\n",
        "\n",
        "numbers = [2, 4, 7, 8, 12]\n",
        "print(square_numbers(numbers))\n"
      ],
      "metadata": {
        "colab": {
          "base_uri": "https://localhost:8080/"
        },
        "id": "ngCKHB78QvdC",
        "outputId": "ac8fa77c-5fb2-4a36-c155-6445197366d1"
      },
      "execution_count": 4,
      "outputs": [
        {
          "output_type": "stream",
          "name": "stdout",
          "text": [
            "[4, 16, 49, 64, 144]\n"
          ]
        }
      ]
    },
    {
      "cell_type": "markdown",
      "source": [
        "Q4- Write a Python function that checks if a given number is prime or not from 1 to 200."
      ],
      "metadata": {
        "id": "U7nOgotzRglB"
      }
    },
    {
      "cell_type": "code",
      "source": [
        "def is_prime(n):\n",
        "    if n < 2:\n",
        "        return False\n",
        "    for i in range(2, int(n**0.5) + 1):\n",
        "        if n % i == 0:\n",
        "            return False\n",
        "    return True\n",
        "\n",
        "for number in range(1, 201):\n",
        "    if is_prime(number):\n",
        "        print(number, end=' ')"
      ],
      "metadata": {
        "colab": {
          "base_uri": "https://localhost:8080/"
        },
        "id": "uizcWu-9Rk9g",
        "outputId": "9ac292bf-8dcb-4720-b1f9-0e62d972d45f"
      },
      "execution_count": 5,
      "outputs": [
        {
          "output_type": "stream",
          "name": "stdout",
          "text": [
            "2 3 5 7 11 13 17 19 23 29 31 37 41 43 47 53 59 61 67 71 73 79 83 89 97 101 103 107 109 113 127 131 137 139 149 151 157 163 167 173 179 181 191 193 197 199 "
          ]
        }
      ]
    },
    {
      "cell_type": "markdown",
      "source": [
        "Q5-  Create an iterator class in Python that generates the Fibonacci sequence up to a specified number of terms.\n"
      ],
      "metadata": {
        "id": "rlWTbtxkSLhM"
      }
    },
    {
      "cell_type": "code",
      "source": [
        "class Fibonacci:\n",
        "    def __init__(self, terms):\n",
        "        self.terms = terms\n",
        "        self.current = 0\n",
        "        self.next = 1\n",
        "        self.index = 0\n",
        "    def __iter__(self):\n",
        "        return self\n",
        "    def __next__(self):\n",
        "        if self.index >= self.terms:\n",
        "            raise StopIteration\n",
        "        result = self.current\n",
        "        self.current, self.next = self.next, self.current + self.next\n",
        "        self.index += 1\n",
        "        return result\n",
        "\n",
        "fib = Fibonacci(10)\n",
        "for num in fib:\n",
        "    print(num, end=' ')\n"
      ],
      "metadata": {
        "colab": {
          "base_uri": "https://localhost:8080/"
        },
        "id": "wtta-nw2SSnr",
        "outputId": "be2b91e1-e062-4714-b7fc-941d0a9e72fc"
      },
      "execution_count": 6,
      "outputs": [
        {
          "output_type": "stream",
          "name": "stdout",
          "text": [
            "0 1 1 2 3 5 8 13 21 34 "
          ]
        }
      ]
    },
    {
      "cell_type": "markdown",
      "source": [
        "Q6- Write a generator function in Python that yields the powers of 2 up to a given exponent."
      ],
      "metadata": {
        "id": "ukNynLq0St2C"
      }
    },
    {
      "cell_type": "code",
      "source": [
        "def powers_of_two(n):\n",
        "    for i in range(n + 1):  # Iterate from 0 to n\n",
        "        yield 2 ** i  # Yield the power of 2\n",
        "\n",
        "\n",
        "for power in powers_of_two(7):\n",
        "    print(power)"
      ],
      "metadata": {
        "colab": {
          "base_uri": "https://localhost:8080/"
        },
        "id": "a7qBqRfUSxdS",
        "outputId": "a24f9a53-bc20-4985-f108-6fa808ef3146"
      },
      "execution_count": 8,
      "outputs": [
        {
          "output_type": "stream",
          "name": "stdout",
          "text": [
            "1\n",
            "2\n",
            "4\n",
            "8\n",
            "16\n",
            "32\n",
            "64\n",
            "128\n"
          ]
        }
      ]
    },
    {
      "cell_type": "markdown",
      "source": [
        "Q7-  Implement a generator function that reads a file line by line and yields each line as a string."
      ],
      "metadata": {
        "id": "J3Zg2MAuTEZr"
      }
    },
    {
      "cell_type": "code",
      "source": [
        "def read_file_line_by_line(filename):\n",
        "    with open(filename, 'r') as file:\n",
        "        for line in file:\n",
        "            yield line.strip()\n",
        "\n",
        " #for line in read_file_line_by_line('example.txt'):\n",
        " #  print(line)"
      ],
      "metadata": {
        "id": "xqswydzXTuOD"
      },
      "execution_count": null,
      "outputs": []
    },
    {
      "cell_type": "markdown",
      "source": [
        "Q8-  Use a lambda function in Python to sort a list of tuples based on the second element of each tuple.\n"
      ],
      "metadata": {
        "id": "XWpIDFgeTyNG"
      }
    },
    {
      "cell_type": "code",
      "source": [
        "data = [(1, 5), (3, 2), (4, 8), (2, 1)]\n",
        "\n",
        "sorted_data = sorted(data, key=lambda x: x[1])\n",
        "\n",
        "print(sorted_data)"
      ],
      "metadata": {
        "colab": {
          "base_uri": "https://localhost:8080/"
        },
        "id": "0sus1OeYUKLG",
        "outputId": "10a17330-f542-4c5d-f59e-969c0f6c6b6d"
      },
      "execution_count": 13,
      "outputs": [
        {
          "output_type": "stream",
          "name": "stdout",
          "text": [
            "[(2, 1), (3, 2), (1, 5), (4, 8)]\n"
          ]
        }
      ]
    },
    {
      "cell_type": "markdown",
      "source": [
        "Q9- Write a Python program that uses `map()` to convert a list of temperatures from Celsius to Fahrenheit."
      ],
      "metadata": {
        "id": "UWenioLKUZQV"
      }
    },
    {
      "cell_type": "code",
      "source": [
        "def celsius_to_fahrenheit(celsius_list):\n",
        "    return list(map(lambda c: (c * 9/5) + 32, celsius_list))\n",
        "\n",
        "celsius = [0, 10, 20, 30, 100]\n",
        "fahrenheit = celsius_to_fahrenheit(celsius)\n",
        "print(fahrenheit)"
      ],
      "metadata": {
        "colab": {
          "base_uri": "https://localhost:8080/"
        },
        "id": "DOkI_HZ4UdDT",
        "outputId": "cc3dc4f4-9980-4093-8cc3-3428d372ce96"
      },
      "execution_count": 14,
      "outputs": [
        {
          "output_type": "stream",
          "name": "stdout",
          "text": [
            "[32.0, 50.0, 68.0, 86.0, 212.0]\n"
          ]
        }
      ]
    },
    {
      "cell_type": "markdown",
      "source": [
        "Q10-  Create a Python program that uses `filter()` to remove all the vowels from a given string"
      ],
      "metadata": {
        "id": "6XHS7a8aVYlx"
      }
    },
    {
      "cell_type": "code",
      "source": [
        "def remove_vowels(s):\n",
        "    return ''.join(filter(lambda char: char.lower() not in 'aeiou', s))\n",
        "\n",
        "\n",
        "text = \"Hello, World!\"\n",
        "result = remove_vowels(text)\n",
        "print(result)"
      ],
      "metadata": {
        "colab": {
          "base_uri": "https://localhost:8080/"
        },
        "id": "wyc1l2IqVce2",
        "outputId": "35f9e6f4-82c1-453d-8d72-a8400db9b256"
      },
      "execution_count": 15,
      "outputs": [
        {
          "output_type": "stream",
          "name": "stdout",
          "text": [
            "Hll, Wrld!\n"
          ]
        }
      ]
    },
    {
      "cell_type": "markdown",
      "source": [
        "Q11- Imagine an accounting routine used in a book shop. It works on a list with sublists, which look like this: Write a Python program, which returns a list with 2-tuples. Each tuple consists of the order number and the\n",
        "product of the price per item and the quantity. The product should be increased by 10,- € if the value of the\n",
        "order is smaller than 100,00 €."
      ],
      "metadata": {
        "id": "1NItNNKiVmQI"
      }
    },
    {
      "cell_type": "code",
      "source": [
        "# Lambda function to calculate total with conditional addition\n",
        "calculate_total = lambda order:\n",
        "        (order[0], order[1] * order[2] + (10 if order[1] * order[2] < 100 else 0))\n",
        ""
      ],
      "metadata": {
        "id": "qrdxGUVUYnoS"
      },
      "execution_count": null,
      "outputs": []
    },
    {
      "cell_type": "code",
      "source": [
        "#Python program using lambda and map\n",
        "# Applying map to generate the desired output\n",
        "order_totals = list(map(calculate_total, orders))\n",
        "print(order_totals)\n",
        "\n",
        "\n"
      ],
      "metadata": {
        "id": "A6qtiy_FZqJl"
      },
      "execution_count": null,
      "outputs": []
    }
  ]
}